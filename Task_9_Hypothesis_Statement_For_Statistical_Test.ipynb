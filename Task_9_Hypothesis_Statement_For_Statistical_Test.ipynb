{
 "cells": [
  {
   "cell_type": "markdown",
   "id": "4f6f215d",
   "metadata": {},
   "source": [
    "# Daily Task - 9\n",
    "\n",
    "## Formulate Hypothesis Statement for each Statistical Test along with Scripts.\n",
    "# ---------------------------------------------------------------------------------------------------------------"
   ]
  },
  {
   "cell_type": "markdown",
   "id": "b78512a4",
   "metadata": {},
   "source": [
    "## 1. One Sample T-Test"
   ]
  },
  {
   "cell_type": "markdown",
   "id": "a6a40510",
   "metadata": {},
   "source": [
    "### In this example, suppose we want to sample a spending time by mobile users to check if the average time is more than 120 minutes.\n",
    "* Our null hypothesis is: the mean time is exactly 120 minutes\n",
    "* Our alternative hypothesis is: the mean time is not 120 minutes"
   ]
  },
  {
   "cell_type": "markdown",
   "id": "18e24cf7",
   "metadata": {},
   "source": [
    "#### Example No 1"
   ]
  },
  {
   "cell_type": "code",
   "execution_count": 10,
   "id": "67131927",
   "metadata": {},
   "outputs": [],
   "source": [
    "import numpy as np\n",
    "import scipy.stats as stats"
   ]
  },
  {
   "cell_type": "code",
   "execution_count": 1,
   "id": "310f320b",
   "metadata": {},
   "outputs": [
    {
     "data": {
      "text/plain": [
       "25"
      ]
     },
     "execution_count": 1,
     "metadata": {},
     "output_type": "execute_result"
    }
   ],
   "source": [
    "#Time spending by mobile users in minutes \n",
    "minutes = [180,122,100,120,60,140,150,230,90,120,110,140,175,120,130,120,225,125,30,200,158,120,135,40,80]\n",
    "len(minutes) # Population"
   ]
  },
  {
   "cell_type": "code",
   "execution_count": 4,
   "id": "390561c0",
   "metadata": {},
   "outputs": [
    {
     "data": {
      "text/plain": [
       "128.8"
      ]
     },
     "execution_count": 4,
     "metadata": {},
     "output_type": "execute_result"
    }
   ],
   "source": [
    "np.mean(minutes) # Population mean"
   ]
  },
  {
   "cell_type": "code",
   "execution_count": 5,
   "id": "4248b1c4",
   "metadata": {},
   "outputs": [
    {
     "data": {
      "text/plain": [
       "array([130, 125, 120, 150,  40])"
      ]
     },
     "execution_count": 5,
     "metadata": {},
     "output_type": "execute_result"
    }
   ],
   "source": [
    "random_selection_from_pop = np.random.choice(a = minutes, size=5)\n",
    "random_selection_from_pop"
   ]
  },
  {
   "cell_type": "code",
   "execution_count": 6,
   "id": "8ad74d1d",
   "metadata": {},
   "outputs": [
    {
     "data": {
      "text/plain": [
       "113.0"
      ]
     },
     "execution_count": 6,
     "metadata": {},
     "output_type": "execute_result"
    }
   ],
   "source": [
    "np.mean(random_selection_from_pop) # Sample mean"
   ]
  },
  {
   "cell_type": "code",
   "execution_count": 11,
   "id": "41e9a069",
   "metadata": {},
   "outputs": [
    {
     "name": "stdout",
     "output_type": "stream",
     "text": [
      "-0.4750018325723336\n",
      "0.6595591503510978\n"
     ]
    }
   ],
   "source": [
    "_,pval = stats.ttest_1samp(a = random_selection_from_pop, popmean = 122 )\n",
    "print(_)\n",
    "print(pval)"
   ]
  },
  {
   "cell_type": "code",
   "execution_count": 12,
   "id": "b42587fc",
   "metadata": {},
   "outputs": [
    {
     "name": "stdout",
     "output_type": "stream",
     "text": [
      "We do not reject the Null Hypothesis and we can claim that there is no significace in the population mean and sample mean\n"
     ]
    }
   ],
   "source": [
    "#Level if significance - 10%. ie, At 10% level of significance, do we reject or not reject?\n",
    "if pval<0.1:\n",
    " print('We can reject the Null Hypothesis and we can claim that there is a significant diffence in the population mean and sample mean')\n",
    "else:\n",
    " print('We do not reject the Null Hypothesis and we can claim that there is no significace in the population mean and sample mean')\n"
   ]
  },
  {
   "cell_type": "markdown",
   "id": "3d3fd1ea",
   "metadata": {},
   "source": [
    "#### Example No 2"
   ]
  },
  {
   "cell_type": "code",
   "execution_count": 15,
   "id": "402f588d",
   "metadata": {},
   "outputs": [],
   "source": [
    "import scipy.stats as stats"
   ]
  },
  {
   "cell_type": "code",
   "execution_count": 16,
   "id": "ae00492e",
   "metadata": {},
   "outputs": [
    {
     "name": "stdout",
     "output_type": "stream",
     "text": [
      "t Statistic :  0.2006562773994862\n",
      "P Value     :  0.8446291893053613\n"
     ]
    }
   ],
   "source": [
    "x =  [21.5, 24.5, 18.5, 17.2, 14.5, 23.2, 22.1, 20.5, 19.4, 18.1, 24.1, 18.5]\n",
    "tscore, pvalue = stats.ttest_1samp(x, popmean=20)\n",
    "print(\"t Statistic : \", tscore)  \n",
    "print(\"P Value     : \", pvalue)"
   ]
  },
  {
   "cell_type": "code",
   "execution_count": 23,
   "id": "50f36e18",
   "metadata": {},
   "outputs": [
    {
     "name": "stdout",
     "output_type": "stream",
     "text": [
      "We do not reject the Null Hypothesis\n"
     ]
    }
   ],
   "source": [
    "#Level if significance - 10%. ie, At 10% level of significance, do we reject or not reject?\n",
    "if pvalue < 0.1:\n",
    " print('We can reject the Null Hypothesis')\n",
    "else:\n",
    " print('We do not reject the Null Hypothesis')"
   ]
  },
  {
   "cell_type": "markdown",
   "id": "de6f31d8",
   "metadata": {},
   "source": [
    "#### Example No 3"
   ]
  },
  {
   "cell_type": "code",
   "execution_count": 24,
   "id": "d85c46ed",
   "metadata": {},
   "outputs": [],
   "source": [
    "import matplotlib.pyplot as plt"
   ]
  },
  {
   "cell_type": "code",
   "execution_count": 17,
   "id": "2c3364ff",
   "metadata": {
    "scrolled": true
   },
   "outputs": [
    {
     "data": {
      "image/png": "[encoded data removed]",
      "text/plain": [
       "<Figure size 432x288 with 1 Axes>"
      ]
     },
     "metadata": {
      "needs_background": "light"
     },
     "output_type": "display_data"
    },
    {
     "name": "stdout",
     "output_type": "stream",
     "text": [
      "Mean    :  58.38\n",
      "P Value :  0.46739656052502443\n"
     ]
    }
   ],
   "source": [
    "# Create sample data\n",
    "grades = np.array([30] * 5 + [35] * 2 + [43] * 3 + [50] * 5 + [55] * 3 + [60] * 20 + [75] * 5 + [80] * 5 + [90] * 2)\n",
    "\n",
    "# Inspect data\n",
    "# Histogram\n",
    "plt.hist(grades, bins=6) \n",
    "plt.title(\"Histogram of sample students' grade\")\n",
    "plt.xlabel(\"Grade\")\n",
    "plt.ylabel(\"Frequency\")\n",
    "plt.show()\n",
    "\n",
    "# Sample mean\n",
    "print(\"Mean    : \", np.mean(grades))\n",
    "\n",
    "# One sample t-test\n",
    "result = stats.ttest_1samp(grades, 60)\n",
    "\n",
    "# p-value\n",
    "print(\"P Value : \", result.pvalue)"
   ]
  },
  {
   "cell_type": "code",
   "execution_count": 25,
   "id": "ee0c6c9c",
   "metadata": {},
   "outputs": [
    {
     "name": "stdout",
     "output_type": "stream",
     "text": [
      "We do not reject the Null Hypothesis\n"
     ]
    }
   ],
   "source": [
    "#Level if significance - 10%. ie, At 10% level of significance, do we reject or not reject?\n",
    "if pvalue < 0.1:\n",
    " print('We can reject the Null Hypothesis')\n",
    "else:\n",
    " print('We do not reject the Null Hypothesis')"
   ]
  },
  {
   "cell_type": "markdown",
   "id": "c7d33a8b",
   "metadata": {},
   "source": [
    "##  2. Two Sample T test"
   ]
  },
  {
   "cell_type": "markdown",
   "id": "dc8d0524",
   "metadata": {},
   "source": [
    "### In this example, suppose we want to sample a mango trees for different fertilizers\n",
    "* Our null hypothesis is: Organic fertilizer is good for production\n",
    "* Our alternative hypothesis is: Chemical fertilizer is good for productio"
   ]
  },
  {
   "cell_type": "code",
   "execution_count": 26,
   "id": "ae3e85f0",
   "metadata": {},
   "outputs": [],
   "source": [
    "organic_mangos = [50,55,45,30,20,25,40,42,36,48] # No. of mangos with organic fertilizer.\n",
    "chemical_mangos = [80,60,75,83,85,75,65,100,90,95] # No. of mangos with chemical fertilizer."
   ]
  },
  {
   "cell_type": "code",
   "execution_count": 27,
   "id": "425016c3",
   "metadata": {},
   "outputs": [
    {
     "data": {
      "text/plain": [
       "39.1"
      ]
     },
     "execution_count": 27,
     "metadata": {},
     "output_type": "execute_result"
    }
   ],
   "source": [
    "np.mean(organic_mangos)"
   ]
  },
  {
   "cell_type": "code",
   "execution_count": 28,
   "id": "01e65c6b",
   "metadata": {},
   "outputs": [
    {
     "data": {
      "text/plain": [
       "80.8"
      ]
     },
     "execution_count": 28,
     "metadata": {},
     "output_type": "execute_result"
    }
   ],
   "source": [
    "np.mean(chemical_mangos)"
   ]
  },
  {
   "cell_type": "code",
   "execution_count": 29,
   "id": "24bd97c4",
   "metadata": {},
   "outputs": [
    {
     "name": "stdout",
     "output_type": "stream",
     "text": [
      "-7.790650860980508\n",
      "3.5677940572369257e-07\n"
     ]
    }
   ],
   "source": [
    "_,pval = stats.ttest_ind(a = organic_mangos,b = chemical_mangos)\n",
    "print(_)\n",
    "print(pval)"
   ]
  },
  {
   "cell_type": "code",
   "execution_count": 30,
   "id": "c6d1e693",
   "metadata": {},
   "outputs": [
    {
     "name": "stdout",
     "output_type": "stream",
     "text": [
      "We reject the Null Hypothesis and we can claim that there is a significant diffence in the average nos of mangos with chemical fertilizer and organicfertilizer for production\n"
     ]
    }
   ],
   "source": [
    "#Level if significance - 5%. ie, At 5% level of significance, do we reject or not reject?\n",
    "if pval<0.05:\n",
    " print('We reject the Null Hypothesis and we can claim that there is a significant diffence in the average nos of mangos with chemical fertilizer and organicfertilizer for production')\n",
    "else:\n",
    " print('We do not reject the Null Hypothesis and we can claim that there is no significace diffence')"
   ]
  },
  {
   "cell_type": "markdown",
   "id": "05b8acb1",
   "metadata": {},
   "source": [
    "## 3. Paired T Test"
   ]
  },
  {
   "cell_type": "markdown",
   "id": "ebddeb39",
   "metadata": {},
   "source": [
    "### Here we are going to calculate working time with focus of human with and without meditation in minutes\n",
    "* Our null hypothesis is: We can focus more than 10 hrs without meditation\n",
    "* Our alternative hypothesis is: We cannot focus more than 10 hrs without meditation"
   ]
  },
  {
   "cell_type": "markdown",
   "id": "654917f7",
   "metadata": {},
   "source": [
    "#### Example No 1"
   ]
  },
  {
   "cell_type": "code",
   "execution_count": 31,
   "id": "1804ba9c",
   "metadata": {},
   "outputs": [],
   "source": [
    "pre_meditation_program = [480,420,400,360,300,320,340,500,380,420]\n",
    "post_meditation_program = [540,600,720,650,700,630,560,670,800,740]"
   ]
  },
  {
   "cell_type": "code",
   "execution_count": 32,
   "id": "ed5ea25a",
   "metadata": {},
   "outputs": [
    {
     "data": {
      "text/plain": [
       "392.0"
      ]
     },
     "execution_count": 32,
     "metadata": {},
     "output_type": "execute_result"
    }
   ],
   "source": [
    "np.mean(pre_meditation_program)"
   ]
  },
  {
   "cell_type": "code",
   "execution_count": 33,
   "id": "5fefe91a",
   "metadata": {},
   "outputs": [
    {
     "data": {
      "text/plain": [
       "661.0"
      ]
     },
     "execution_count": 33,
     "metadata": {},
     "output_type": "execute_result"
    }
   ],
   "source": [
    "np.mean(post_meditation_program)"
   ]
  },
  {
   "cell_type": "code",
   "execution_count": 34,
   "id": "88a9e374",
   "metadata": {},
   "outputs": [
    {
     "name": "stdout",
     "output_type": "stream",
     "text": [
      "-7.656601626975906\n",
      "3.137229239240941e-05\n"
     ]
    }
   ],
   "source": [
    "_,pval = stats.ttest_rel(a = pre_meditation_program, b = post_meditation_program)\n",
    "print(_)\n",
    "print(pval)"
   ]
  },
  {
   "cell_type": "code",
   "execution_count": 35,
   "id": "a2026ff1",
   "metadata": {},
   "outputs": [
    {
     "name": "stdout",
     "output_type": "stream",
     "text": [
      "We reject the Null Hypothesis and we can claim that there is a significant diffence in the average working hrs with & without meditaion\n"
     ]
    }
   ],
   "source": [
    "#Level if significance - 10%. ie, At 10% level of significance, do we reject or not reject?\n",
    "if pval<0.1:\n",
    " print('We reject the Null Hypothesis and we can claim that there is a significant diffence in the average working hrs with & without meditaion')\n",
    "else:\n",
    " print('We do not reject the Null Hypothesis and we can claim that there is no significant diffence in the working hrs with & without meditation')"
   ]
  },
  {
   "cell_type": "markdown",
   "id": "3c35b90f",
   "metadata": {},
   "source": [
    "#### Example No 2"
   ]
  },
  {
   "cell_type": "code",
   "execution_count": 36,
   "id": "db6d3a9f",
   "metadata": {},
   "outputs": [
    {
     "name": "stdout",
     "output_type": "stream",
     "text": [
      "Test statistic is -1.707331\n",
      "p-value for one_tailed_test is 0.059282\n",
      "Conclusion n Since p-value(=0.059282) > alpha(=0.05) We do not reject the null hypothesis H0. \n",
      "\n",
      "So we conclude that the students have not benefited by the tuition class. i.e., d = 0 at 0.05 level of significance.\n"
     ]
    }
   ],
   "source": [
    "alpha = 0.05\n",
    "first_test =[23, 20, 19, 21, 18, 20, 18, 17, 23, 16, 19]\n",
    "second_test=[24, 19, 22, 18, 20, 22, 20, 20, 23, 20, 18]\n",
    "\n",
    "t_value,p_value=stats.ttest_rel(first_test,second_test)\n",
    "\n",
    "one_tailed_p_value=float(\"{:.6f}\".format(p_value/2)) \n",
    "\n",
    "print('Test statistic is %f'%float(\"{:.6f}\".format(t_value)))\n",
    "\n",
    "print('p-value for one_tailed_test is %f'%one_tailed_p_value)\n",
    "\n",
    "alpha = 0.05\n",
    "\n",
    "if one_tailed_p_value<=alpha:\n",
    "\n",
    "    print('Conclusion','n','Since p-value(=%f)'%one_tailed_p_value,'<','alpha(=%.2f)'%alpha,'''We reject the null hypothesis H0. \n",
    "\n",
    "So we conclude that the students have benefited by the tuition class. i.e., d = 0 at %.2f level of significance.'''%alpha)\n",
    "\n",
    "else:\n",
    "\n",
    "    print('Conclusion','n','Since p-value(=%f)'%one_tailed_p_value,'>','alpha(=%.2f)'%alpha,'''We do not reject the null hypothesis H0. \n",
    "\n",
    "So we conclude that the students have not benefited by the tuition class. i.e., d = 0 at %.2f level of significance.'''%alpha)"
   ]
  },
  {
   "cell_type": "markdown",
   "id": "9669e49a",
   "metadata": {},
   "source": [
    "## 4. One Sample Propotion Test"
   ]
  },
  {
   "cell_type": "markdown",
   "id": "edfb2f23",
   "metadata": {},
   "source": [
    "### Example:\n",
    "* Null hypothesis is: 80% of the tests pass\n",
    "* Alternative hypothesis is: more than 80% of the tests pass\n",
    "* We sampled 500 tests, and found 410 passed\n"
   ]
  },
  {
   "cell_type": "markdown",
   "id": "46c77f8a",
   "metadata": {},
   "source": [
    "#### Example No 1"
   ]
  },
  {
   "cell_type": "code",
   "execution_count": 37,
   "id": "242c19c8",
   "metadata": {},
   "outputs": [],
   "source": [
    "import numpy as np\n",
    "from statsmodels.stats.proportion import proportions_ztest"
   ]
  },
  {
   "cell_type": "code",
   "execution_count": 38,
   "id": "06df5fde",
   "metadata": {},
   "outputs": [],
   "source": [
    "sample_success = 410\n",
    "sample_size = 500\n",
    "null_hypothesis = 0.80"
   ]
  },
  {
   "cell_type": "code",
   "execution_count": 39,
   "id": "ee4b75bd",
   "metadata": {},
   "outputs": [
    {
     "name": "stdout",
     "output_type": "stream",
     "text": [
      "1.1640504929492914\n",
      "0.2444035498649847\n"
     ]
    }
   ],
   "source": [
    "stat, p_value = proportions_ztest(count=sample_success, nobs=sample_size, value=null_hypothesis)\n",
    "print(stat)\n",
    "print(p_value)"
   ]
  },
  {
   "cell_type": "code",
   "execution_count": 40,
   "id": "0580af9f",
   "metadata": {},
   "outputs": [
    {
     "name": "stdout",
     "output_type": "stream",
     "text": [
      "Reject the null hypothesis - suggest the alternative hypothesis is true\n"
     ]
    }
   ],
   "source": [
    "#Level if significance - 10%. ie, At 10% level of significance, do we reject or not reject?\n",
    "significance = 0.1\n",
    "if p_value < significance:\n",
    " print (\"Fail to reject the null hypothesis - we have nothing else to say\")\n",
    "else:\n",
    " print (\"Reject the null hypothesis - suggest the alternative hypothesis is true\")"
   ]
  },
  {
   "cell_type": "markdown",
   "id": "31c3b4d3",
   "metadata": {},
   "source": [
    "#### Example No 2"
   ]
  },
  {
   "cell_type": "code",
   "execution_count": 41,
   "id": "4531d0f1",
   "metadata": {},
   "outputs": [
    {
     "name": "stdout",
     "output_type": "stream",
     "text": [
      "0.159\n"
     ]
    }
   ],
   "source": [
    "count = np.array([5, 12])\n",
    "nobs = np.array([83, 99])\n",
    "stat, pval = proportions_ztest(count, nobs)\n",
    "print('{0:0.3f}'.format(pval))"
   ]
  },
  {
   "cell_type": "code",
   "execution_count": 42,
   "id": "db2dbfec",
   "metadata": {},
   "outputs": [
    {
     "name": "stdout",
     "output_type": "stream",
     "text": [
      "Test statistic is 0.184650\n",
      "p-value for two tailed test is 0.855195\n",
      "Conclusion n Since p-value(=0.855195) > alpha(=0.05) We do not reject the null hypothesis H0.\n"
     ]
    }
   ],
   "source": [
    "Ammonium_chloride=[13.4,10.9,11.2,11.8,14,15.3,14.2,12.6,17,16.2,16.5,15.7]\n",
    "Urea=[12,11.7,10.7,11.2,14.8,14.4,13.9,13.7,16.9,16,15.6,16]\n",
    "\n",
    "t_value,p_value=stats.ttest_ind(Ammonium_chloride,Urea)\n",
    "\n",
    "print('Test statistic is %f'%float(\"{:.6f}\".format(t_value)))\n",
    "\n",
    "print('p-value for two tailed test is %f'%p_value)\n",
    "\n",
    "alpha = 0.05\n",
    "\n",
    "if p_value<=alpha:\n",
    "\n",
    "    print('Conclusion','n','Since p-value(=%f)'%p_value,'<','alpha(=%.2f)'%alpha,'''We reject the null hypothesis H0. So we conclude that the \n",
    "\n",
    "effect of ammonium chloride and urea on grain yield of paddy are not equal i.e., μ1 = μ2 at %.2f level of significance.'''%alpha)\n",
    "\n",
    "else:\n",
    "\n",
    "    print('Conclusion','n','Since p-value(=%f)'%p_value,'>','alpha(=%.2f)'%alpha,'''We do not reject the null hypothesis H0.''')"
   ]
  },
  {
   "cell_type": "markdown",
   "id": "d163db24",
   "metadata": {},
   "source": [
    "#### Example No 3"
   ]
  },
  {
   "cell_type": "code",
   "execution_count": 43,
   "id": "470c85fb",
   "metadata": {},
   "outputs": [
    {
     "name": "stdout",
     "output_type": "stream",
     "text": [
      "z_stat: 1.164, p_value: 0.122\n",
      "Fail to reject the null hypothesis - we have nothing else to say\n"
     ]
    }
   ],
   "source": [
    "# can we assume anything from our sample\n",
    "significance = 0.05\n",
    "# our sample - 82% are good\n",
    "sample_success = 410\n",
    "sample_size = 500\n",
    "# our Ho is  80%\n",
    "null_hypothesis = 0.80\n",
    "# check our sample against Ho for Ha > Ho\n",
    "# for Ha < Ho use alternative='smaller'\n",
    "# for Ha != Ho use alternative='two-sided'\n",
    "stat, p_value = proportions_ztest(count=sample_success, nobs=sample_size, value=null_hypothesis, alternative='larger')\n",
    "# report\n",
    "print('z_stat: %0.3f, p_value: %0.3f' % (stat, p_value))\n",
    "if p_value > significance:\n",
    "   print (\"Fail to reject the null hypothesis - we have nothing else to say\")\n",
    "else:\n",
    "   print (\"Reject the null hypothesis - suggest the alternative hypothesis is true\")"
   ]
  },
  {
   "cell_type": "markdown",
   "id": "a63d1fde",
   "metadata": {},
   "source": [
    "## 5. Two Sample Propotion Test"
   ]
  },
  {
   "cell_type": "markdown",
   "id": "7843341f",
   "metadata": {},
   "source": [
    "* H0 : People never be depressed\n",
    "* Ha : People can be depressed (Statistically significant)"
   ]
  },
  {
   "cell_type": "markdown",
   "id": "33ea1d97",
   "metadata": {},
   "source": [
    "#### Example No 1"
   ]
  },
  {
   "cell_type": "code",
   "execution_count": 44,
   "id": "e2ac0d40",
   "metadata": {},
   "outputs": [
    {
     "name": "stdout",
     "output_type": "stream",
     "text": [
      "-8.0\n"
     ]
    }
   ],
   "source": [
    "import scipy.stats as stats\n",
    "import math\n",
    "\n",
    "# Specify the number of occurrences (x), the sample size (n), and the proportion claimed in the null-hypothesis (p)\n",
    "x = 10\n",
    "n = 100\n",
    "p = 0.5\n",
    "\n",
    "# Calculate the sample proportion\n",
    "p_hat = x/n\n",
    "\n",
    "# Calculate and print the test statistic\n",
    "print((p_hat-p)/(math.sqrt((p*(1-p))/(n))))"
   ]
  },
  {
   "cell_type": "markdown",
   "id": "49cab3f6",
   "metadata": {},
   "source": [
    "## 6. INOVA Test  (Analysis of Variance)"
   ]
  },
  {
   "cell_type": "markdown",
   "id": "9028432c",
   "metadata": {},
   "source": [
    "### Example: Average between two data samples are significantly independent and different.\n",
    "\n",
    "#### **Hypothesis Formulation**\n",
    "\n",
    "\n",
    "* H0: the mean between two samples are equal .\n",
    "* H1: the mean between two samples are not equal.\n"
   ]
  },
  {
   "cell_type": "code",
   "execution_count": 45,
   "id": "16353340",
   "metadata": {},
   "outputs": [],
   "source": [
    "from scipy.stats import f_oneway"
   ]
  },
  {
   "cell_type": "code",
   "execution_count": 46,
   "id": "91be01f2",
   "metadata": {},
   "outputs": [],
   "source": [
    "data1 = [0.873, 2.817, 0.121, -0.945, -0.055, -1.436, 0.360, -1.478, -1.637, -1.869]\n",
    "data2 = [1.142, -0.432, -0.938, -0.729, -0.846, -0.157, 0.500, 1.183, -1.075, -0.169]\n",
    "data3 = [-0.208, 0.696, 0.928, -1.148, -0.213, 0.229, 0.137, 0.269, -0.870, -1.204]"
   ]
  },
  {
   "cell_type": "code",
   "execution_count": 47,
   "id": "4a7d20e5",
   "metadata": {},
   "outputs": [
    {
     "name": "stdout",
     "output_type": "stream",
     "text": [
      "0.9083957433926546\n",
      "0.09641783499925058\n"
     ]
    }
   ],
   "source": [
    "stat, p_value = f_oneway(data1, data2, data3)\n",
    "print(p_value)\n",
    "print(stat)"
   ]
  },
  {
   "cell_type": "code",
   "execution_count": 48,
   "id": "b8fd9ff7",
   "metadata": {},
   "outputs": [
    {
     "name": "stdout",
     "output_type": "stream",
     "text": [
      "Probably the same distribution\n"
     ]
    }
   ],
   "source": [
    "#Level if significance - 5%. ie, At 5% level of significance, do we reject or not reject?\n",
    "if p_value > 0.05:\n",
    " print('Probably the same distribution')\n",
    "else:\n",
    " print('Probably different distributions')"
   ]
  },
  {
   "cell_type": "markdown",
   "id": "55892ec7",
   "metadata": {},
   "source": [
    "## 7. Chi Squared Test"
   ]
  },
  {
   "cell_type": "markdown",
   "id": "a1c8d9a3",
   "metadata": {},
   "source": [
    "* H0 : There is no association between Male species and female species.\n",
    "* Ha : Male species are more & female species are less (Statistically significant)."
   ]
  },
  {
   "cell_type": "code",
   "execution_count": 53,
   "id": "bd1473f0",
   "metadata": {},
   "outputs": [],
   "source": [
    "import pandas as pd\n",
    "import seaborn as sns\n",
    "from scipy import stats\n",
    "from seaborn import load_dataset"
   ]
  },
  {
   "cell_type": "code",
   "execution_count": 54,
   "id": "6e235ace",
   "metadata": {},
   "outputs": [
    {
     "data": {
      "text/plain": [
       "['anagrams',\n",
       " 'anscombe',\n",
       " 'attention',\n",
       " 'brain_networks',\n",
       " 'car_crashes',\n",
       " 'diamonds',\n",
       " 'dots',\n",
       " 'exercise',\n",
       " 'flights',\n",
       " 'fmri',\n",
       " 'gammas',\n",
       " 'geyser',\n",
       " 'iris',\n",
       " 'mpg',\n",
       " 'penguins',\n",
       " 'planets',\n",
       " 'taxis',\n",
       " 'tips',\n",
       " 'titanic']"
      ]
     },
     "execution_count": 54,
     "metadata": {},
     "output_type": "execute_result"
    }
   ],
   "source": [
    "sns.get_dataset_names()"
   ]
  },
  {
   "cell_type": "code",
   "execution_count": 55,
   "id": "b5069ad5",
   "metadata": {},
   "outputs": [
    {
     "data": {
      "text/html": [
       "<div>\n",
       "<style scoped>\n",
       "    .dataframe tbody tr th:only-of-type {\n",
       "        vertical-align: middle;\n",
       "    }\n",
       "\n",
       "    .dataframe tbody tr th {\n",
       "        vertical-align: top;\n",
       "    }\n",
       "\n",
       "    .dataframe thead th {\n",
       "        text-align: right;\n",
       "    }\n",
       "</style>\n",
       "<table border=\"1\" class=\"dataframe\">\n",
       "  <thead>\n",
       "    <tr style=\"text-align: right;\">\n",
       "      <th></th>\n",
       "      <th>species</th>\n",
       "      <th>island</th>\n",
       "      <th>bill_length_mm</th>\n",
       "      <th>bill_depth_mm</th>\n",
       "      <th>flipper_length_mm</th>\n",
       "      <th>body_mass_g</th>\n",
       "      <th>sex</th>\n",
       "    </tr>\n",
       "  </thead>\n",
       "  <tbody>\n",
       "    <tr>\n",
       "      <th>0</th>\n",
       "      <td>Adelie</td>\n",
       "      <td>Torgersen</td>\n",
       "      <td>39.1</td>\n",
       "      <td>18.7</td>\n",
       "      <td>181.0</td>\n",
       "      <td>3750.0</td>\n",
       "      <td>Male</td>\n",
       "    </tr>\n",
       "    <tr>\n",
       "      <th>1</th>\n",
       "      <td>Adelie</td>\n",
       "      <td>Torgersen</td>\n",
       "      <td>39.5</td>\n",
       "      <td>17.4</td>\n",
       "      <td>186.0</td>\n",
       "      <td>3800.0</td>\n",
       "      <td>Female</td>\n",
       "    </tr>\n",
       "    <tr>\n",
       "      <th>2</th>\n",
       "      <td>Adelie</td>\n",
       "      <td>Torgersen</td>\n",
       "      <td>40.3</td>\n",
       "      <td>18.0</td>\n",
       "      <td>195.0</td>\n",
       "      <td>3250.0</td>\n",
       "      <td>Female</td>\n",
       "    </tr>\n",
       "    <tr>\n",
       "      <th>3</th>\n",
       "      <td>Adelie</td>\n",
       "      <td>Torgersen</td>\n",
       "      <td>NaN</td>\n",
       "      <td>NaN</td>\n",
       "      <td>NaN</td>\n",
       "      <td>NaN</td>\n",
       "      <td>NaN</td>\n",
       "    </tr>\n",
       "    <tr>\n",
       "      <th>4</th>\n",
       "      <td>Adelie</td>\n",
       "      <td>Torgersen</td>\n",
       "      <td>36.7</td>\n",
       "      <td>19.3</td>\n",
       "      <td>193.0</td>\n",
       "      <td>3450.0</td>\n",
       "      <td>Female</td>\n",
       "    </tr>\n",
       "    <tr>\n",
       "      <th>...</th>\n",
       "      <td>...</td>\n",
       "      <td>...</td>\n",
       "      <td>...</td>\n",
       "      <td>...</td>\n",
       "      <td>...</td>\n",
       "      <td>...</td>\n",
       "      <td>...</td>\n",
       "    </tr>\n",
       "    <tr>\n",
       "      <th>339</th>\n",
       "      <td>Gentoo</td>\n",
       "      <td>Biscoe</td>\n",
       "      <td>NaN</td>\n",
       "      <td>NaN</td>\n",
       "      <td>NaN</td>\n",
       "      <td>NaN</td>\n",
       "      <td>NaN</td>\n",
       "    </tr>\n",
       "    <tr>\n",
       "      <th>340</th>\n",
       "      <td>Gentoo</td>\n",
       "      <td>Biscoe</td>\n",
       "      <td>46.8</td>\n",
       "      <td>14.3</td>\n",
       "      <td>215.0</td>\n",
       "      <td>4850.0</td>\n",
       "      <td>Female</td>\n",
       "    </tr>\n",
       "    <tr>\n",
       "      <th>341</th>\n",
       "      <td>Gentoo</td>\n",
       "      <td>Biscoe</td>\n",
       "      <td>50.4</td>\n",
       "      <td>15.7</td>\n",
       "      <td>222.0</td>\n",
       "      <td>5750.0</td>\n",
       "      <td>Male</td>\n",
       "    </tr>\n",
       "    <tr>\n",
       "      <th>342</th>\n",
       "      <td>Gentoo</td>\n",
       "      <td>Biscoe</td>\n",
       "      <td>45.2</td>\n",
       "      <td>14.8</td>\n",
       "      <td>212.0</td>\n",
       "      <td>5200.0</td>\n",
       "      <td>Female</td>\n",
       "    </tr>\n",
       "    <tr>\n",
       "      <th>343</th>\n",
       "      <td>Gentoo</td>\n",
       "      <td>Biscoe</td>\n",
       "      <td>49.9</td>\n",
       "      <td>16.1</td>\n",
       "      <td>213.0</td>\n",
       "      <td>5400.0</td>\n",
       "      <td>Male</td>\n",
       "    </tr>\n",
       "  </tbody>\n",
       "</table>\n",
       "<p>344 rows × 7 columns</p>\n",
       "</div>"
      ],
      "text/plain": [
       "    species     island  bill_length_mm  bill_depth_mm  flipper_length_mm  \\\n",
       "0    Adelie  Torgersen            39.1           18.7              181.0   \n",
       "1    Adelie  Torgersen            39.5           17.4              186.0   \n",
       "2    Adelie  Torgersen            40.3           18.0              195.0   \n",
       "3    Adelie  Torgersen             NaN            NaN                NaN   \n",
       "4    Adelie  Torgersen            36.7           19.3              193.0   \n",
       "..      ...        ...             ...            ...                ...   \n",
       "339  Gentoo     Biscoe             NaN            NaN                NaN   \n",
       "340  Gentoo     Biscoe            46.8           14.3              215.0   \n",
       "341  Gentoo     Biscoe            50.4           15.7              222.0   \n",
       "342  Gentoo     Biscoe            45.2           14.8              212.0   \n",
       "343  Gentoo     Biscoe            49.9           16.1              213.0   \n",
       "\n",
       "     body_mass_g     sex  \n",
       "0         3750.0    Male  \n",
       "1         3800.0  Female  \n",
       "2         3250.0  Female  \n",
       "3            NaN     NaN  \n",
       "4         3450.0  Female  \n",
       "..           ...     ...  \n",
       "339          NaN     NaN  \n",
       "340       4850.0  Female  \n",
       "341       5750.0    Male  \n",
       "342       5200.0  Female  \n",
       "343       5400.0    Male  \n",
       "\n",
       "[344 rows x 7 columns]"
      ]
     },
     "execution_count": 55,
     "metadata": {},
     "output_type": "execute_result"
    }
   ],
   "source": [
    "penguins_data = load_dataset('penguins')\n",
    "penguins_data"
   ]
  },
  {
   "cell_type": "code",
   "execution_count": 56,
   "id": "766f798a",
   "metadata": {},
   "outputs": [
    {
     "data": {
      "text/html": [
       "<div>\n",
       "<style scoped>\n",
       "    .dataframe tbody tr th:only-of-type {\n",
       "        vertical-align: middle;\n",
       "    }\n",
       "\n",
       "    .dataframe tbody tr th {\n",
       "        vertical-align: top;\n",
       "    }\n",
       "\n",
       "    .dataframe thead th {\n",
       "        text-align: right;\n",
       "    }\n",
       "</style>\n",
       "<table border=\"1\" class=\"dataframe\">\n",
       "  <thead>\n",
       "    <tr style=\"text-align: right;\">\n",
       "      <th>species</th>\n",
       "      <th>Adelie</th>\n",
       "      <th>Chinstrap</th>\n",
       "      <th>Gentoo</th>\n",
       "    </tr>\n",
       "    <tr>\n",
       "      <th>sex</th>\n",
       "      <th></th>\n",
       "      <th></th>\n",
       "      <th></th>\n",
       "    </tr>\n",
       "  </thead>\n",
       "  <tbody>\n",
       "    <tr>\n",
       "      <th>Female</th>\n",
       "      <td>73</td>\n",
       "      <td>34</td>\n",
       "      <td>58</td>\n",
       "    </tr>\n",
       "    <tr>\n",
       "      <th>Male</th>\n",
       "      <td>73</td>\n",
       "      <td>34</td>\n",
       "      <td>61</td>\n",
       "    </tr>\n",
       "  </tbody>\n",
       "</table>\n",
       "</div>"
      ],
      "text/plain": [
       "species  Adelie  Chinstrap  Gentoo\n",
       "sex                               \n",
       "Female       73         34      58\n",
       "Male         73         34      61"
      ]
     },
     "execution_count": 56,
     "metadata": {},
     "output_type": "execute_result"
    }
   ],
   "source": [
    "observed_table = pd.crosstab(index = penguins_data['sex'], columns = penguins_data['species'])\n",
    "observed_table\n"
   ]
  },
  {
   "cell_type": "code",
   "execution_count": 57,
   "id": "1bd52647",
   "metadata": {},
   "outputs": [
    {
     "name": "stdout",
     "output_type": "stream",
     "text": [
      "**************************************************************\n",
      "Chi-squared value :  0.04861\n",
      "P-val             :  0.97599\n",
      "Degree of Freedom :  2\n",
      "Expected Table    :\n",
      " [[72.34234234 33.69369369 58.96396396]\n",
      " [73.65765766 34.30630631 60.03603604]]\n"
     ]
    }
   ],
   "source": [
    "chi2_score,pval,dof,expected_table = stats.chi2_contingency(observed = observed_table)\n",
    "print('**************************************************************')\n",
    "print('Chi-squared value : ',round(chi2_score,5))\n",
    "print('P-val             : ',round(pval,5))\n",
    "print('Degree of Freedom : ',dof)\n",
    "print('Expected Table    :\\n',expected_table)\n"
   ]
  },
  {
   "cell_type": "code",
   "execution_count": 58,
   "id": "498233b1",
   "metadata": {},
   "outputs": [
    {
     "name": "stdout",
     "output_type": "stream",
     "text": [
      "We do not reject the Null Hypothesis and we can claim that there is no association between male and female penguins.\n"
     ]
    }
   ],
   "source": [
    "#Level if significance - 10%. ie, At 10% level of significance, do we reject or not reject?\n",
    "if pval<0.1:\n",
    " print('We can reject the Null Hypothesis and we can claim that there is a association between male and female penguins.')\n",
    "else:\n",
    " print('We do not reject the Null Hypothesis and we can claim that there is no association between male and female penguins.')"
   ]
  },
  {
   "cell_type": "markdown",
   "id": "3ecf4399",
   "metadata": {},
   "source": [
    "# THE END!!"
   ]
  }
 ],
 "metadata": {
  "kernelspec": {
   "display_name": "Python 3 (ipykernel)",
   "language": "python",
   "name": "python3"
  },
  "language_info": {
   "codemirror_mode": {
    "name": "ipython",
    "version": 3
   },
   "file_extension": ".py",
   "mimetype": "text/x-python",
   "name": "python",
   "nbconvert_exporter": "python",
   "pygments_lexer": "ipython3",
   "version": "3.9.12"
  }
 },
 "nbformat": 4,
 "nbformat_minor": 5
}
